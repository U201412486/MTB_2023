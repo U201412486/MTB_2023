{
 "cells": [
  {
   "cell_type": "code",
   "execution_count": 1,
   "id": "730b0b98",
   "metadata": {},
   "outputs": [],
   "source": [
    "import pandas as pd\n",
    "import matplotlib.pyplot as plt\n",
    "import os\n",
    "import pandas as pd\n",
    "import numpy as np"
   ]
  },
  {
   "cell_type": "code",
   "execution_count": 2,
   "id": "7aebf929",
   "metadata": {},
   "outputs": [],
   "source": [
    "os.chdir(\"/Parastor300s_G30S/sunxh/MTB/v_snp2\")\n",
    "\n",
    "isolate_infor = pd.read_excel(\"/Parastor300s_G30S/sunxh/MTB/v_snp2/isolate_infor.xlsx\")\n",
    "all_snp=pd.read_table(\"all.vsnp.annotated\")\n",
    "mix_isolate_infor = pd.read_table(\"mix_isolate\",header = None)\n",
    "names = ['patient_id','stage','mix_infor']\n",
    "mix_isolate_infor.columns = names\n",
    "mix_isolate_infor.patient_id = mix_isolate_infor.patient_id.astype(int)\n",
    "mix_isolate_infor.stage = mix_isolate_infor.stage.astype(int)\n",
    "patient_infor = pd.read_excel(\"/Parastor300s_G30S/sunxh/MTB/v_snp2/population_infor.xlsx\", skiprows = 10)\n",
    "\n",
    "#patient_data2 = pd.DataFrame(patient_data_1bp)\n",
    "patient_data2 = pd.read_csv(\"data1bp_depth.csv\")\n",
    "patient_data2.patient_id = patient_data2.patient_id.astype(int)\n",
    "patient_data2.stage = patient_data2.stage.astype(int)\n",
    "all_snp2 = pd.merge(all_snp,patient_data2,left_on=['patient_id','stage'],right_on=['patient_id','stage'], how='left')\n",
    "all_snp2[\"max_depth_cutoff\"] = all_snp2.mean_depth + 3*np.sqrt(all_snp2.mean_depth)\n",
    "all_snp2[\"min_depth_cutoff\"] = all_snp2.mean_depth - 6*np.sqrt(all_snp2.mean_depth)\n",
    "all_snp_filtered = all_snp2[(all_snp2.coverage <= all_snp2.max_depth_cutoff) & (all_snp2.coverage >= all_snp2.min_depth_cutoff)]\n",
    "all_snp_filtered2 = pd.merge(all_snp_filtered,mix_isolate_infor,left_on=['patient_id','stage'],right_on=['patient_id','stage'], how='left')\n",
    "all_snp_filtered2 = all_snp_filtered2[all_snp_filtered2.mix_infor==\"No\"]\n",
    "\n",
    "\n",
    "\n",
    "\n",
    "TIMEPOINT_DATA2 = {'PATIENT_ID': [], \n",
    "                  'TIME': [], \n",
    "                  'MEAN_FREQUENCY': [], \n",
    "                  'LOG_MEAN_FREQUENCY': [],\n",
    "                  'MEDIAN_FREQUENCY': [],\n",
    "                  'VARIANCE_FREQUENCY': [],\n",
    "                  'vSNP_COUNT': [],\n",
    "                  'DEPTH': [],\n",
    "                  'Phenotype': []\n",
    "                  }\n",
    "\n",
    "\n",
    "for _patient in all_snp_filtered2.patient_id.unique():\n",
    "    _timepoints = list(set(all_snp_filtered2.stage[all_snp_filtered2.patient_id==_patient]))\n",
    "    for _timepoint in _timepoints:\n",
    "        _frequencies = list(all_snp_filtered2.frequency[(all_snp_filtered2.stage==_timepoint)&(all_snp_filtered2.patient_id==_patient)])\n",
    "        _depth = np.mean(list(all_snp_filtered2.mean_depth[(all_snp_filtered2.stage==_timepoint)&(all_snp_filtered2.patient_id==_patient)]))\n",
    "        _mean_frequency = np.mean(_frequencies)\n",
    "        _median_frequency = np.median(_frequencies)\n",
    "        _variance = np.var(_frequencies)\n",
    "        _effective = int(_patient in [41, 42, 43, 44,45,46,47,48,49,50])\n",
    "        \n",
    "        \n",
    "        TIMEPOINT_DATA2['PATIENT_ID'].append(_patient)\n",
    "        TIMEPOINT_DATA2['TIME'].append(_timepoint)\n",
    "        TIMEPOINT_DATA2['MEAN_FREQUENCY'].append(_mean_frequency)\n",
    "        TIMEPOINT_DATA2['LOG_MEAN_FREQUENCY'].append(np.log(_mean_frequency))\n",
    "        TIMEPOINT_DATA2['MEDIAN_FREQUENCY'].append(_median_frequency)\n",
    "        TIMEPOINT_DATA2['VARIANCE_FREQUENCY'].append(_variance)\n",
    "        TIMEPOINT_DATA2['vSNP_COUNT'].append(len(_frequencies))\n",
    "        TIMEPOINT_DATA2['DEPTH'].append(_depth)\n",
    "        TIMEPOINT_DATA2['Phenotype'].append(_effective)\n",
    "\n",
    "\n",
    "TIMEPOINT_DF_all_snp = pd.DataFrame(TIMEPOINT_DATA2)\n",
    "\n",
    "all_snp_filtered3 = pd.merge(all_snp_filtered2,patient_infor,left_on=['patient_id'],right_on=['Case'], how='left')\n",
    "all_snp_filtered4 = pd.merge(all_snp_filtered3,isolate_infor,left_on=['patient_id','stage'],right_on=['Case','Isolate'], how='left')\n"
   ]
  },
  {
   "cell_type": "code",
   "execution_count": 4,
   "id": "5a4714b5",
   "metadata": {},
   "outputs": [
    {
     "data": {
      "text/plain": [
       "1.0"
      ]
     },
     "execution_count": 4,
     "metadata": {},
     "output_type": "execute_result"
    }
   ],
   "source": [
    "all_snp_filtered2.frequency.max()\n"
   ]
  },
  {
   "cell_type": "code",
   "execution_count": null,
   "id": "6f535394",
   "metadata": {},
   "outputs": [],
   "source": [
    "RECURRENT_vSNP = {}\n",
    "for _patient in all_snp_filtered2.patient_id.unique():\n",
    "    RECURRENT_vSNP[_patient] = {}\n",
    "    locus = sorted(list(set(all_snp_filtered2.locus[all_snp_filtered2.patient_id==_patient])))\n",
    "    month = sorted(list(set(all_snp_filtered2.stage[all_snp_filtered2.patient_id==_patient])))\n",
    "    \n",
    "    RECURRENT_vSNP[_patient][\"chrom\"] = []\n",
    "    RECURRENT_vSNP[_patient][\"gene_name\"] = []\n",
    "    RECURRENT_vSNP[_patient][\"postion\"] = locus\n",
    "    RECURRENT_vSNP[_patient][\"ref_allele\"] = []\n",
    "    RECURRENT_vSNP[_patient][\"alt_allele\"] = []\n",
    "    RECURRENT_vSNP[_patient][\"codon_change\"] = []\n",
    "    RECURRENT_vSNP[_patient][\"codon_number\"] = []\n",
    "    RECURRENT_vSNP[_patient][\"anocid\"] = []\n",
    "    RECURRENT_vSNP[_patient][\"anocid_type\"] = []\n",
    "    \n",
    "   \n",
    "    \n",
    "    for j in range(len(locus)):\n",
    "        RECURRENT_vSNP[_patient][\"ref_allele\"].append(all_snp_filtered2.ref_base[(all_snp_filtered2.patient_id==_patient)&(all_snp_filtered2.locus==locus[j])].values[0])\n",
    "        RECURRENT_vSNP[_patient][\"alt_allele\"].append(all_snp_filtered2.alt_base[(all_snp_filtered2.patient_id==_patient)&(all_snp_filtered2.locus==locus[j])].values[0])\n",
    "        RECURRENT_vSNP[_patient][\"chrom\"].append(\"NC_000962.3\") \n",
    "        RECURRENT_vSNP[_patient][\"gene_name\"].append(all_snp_filtered2.gene_name[(all_snp_filtered2.patient_id==_patient)&(all_snp_filtered2.locus==locus[j])].values[0])\n",
    "        RECURRENT_vSNP[_patient][\"codon_change\"].append(all_snp_filtered2.condon_change[(all_snp_filtered2.patient_id==_patient)&(all_snp_filtered2.locus==locus[j])].values[0])\n",
    "        RECURRENT_vSNP[_patient][\"codon_number\"].append(all_snp_filtered2.codon_number[(all_snp_filtered2.patient_id==_patient)&(all_snp_filtered2.locus==locus[j])].values[0])\n",
    "        RECURRENT_vSNP[_patient][\"anocid\"].append(all_snp_filtered2.anocid[(all_snp_filtered2.patient_id==_patient)&(all_snp_filtered2.locus==locus[j])].values[0])\n",
    "        RECURRENT_vSNP[_patient][\"anocid_type\"].append(all_snp_filtered2.anocid_type[(all_snp_filtered2.patient_id==_patient)&(all_snp_filtered2.locus==locus[j])].values[0])\n",
    "        \n",
    "        \n",
    "         \n",
    "        \n",
    "    for i in range(len(month)):\n",
    "        RECURRENT_vSNP[_patient][str(_patient) + \"_m\" + str(month[i])] = []\n",
    "        for j in range(len(locus)):\n",
    "            if all_snp_filtered2.frequency[(all_snp_filtered2.patient_id==_patient)&(all_snp_filtered2.stage==month[i])&(all_snp_filtered2.locus==locus[j])].values.size == 0:\n",
    "                RECURRENT_vSNP[_patient][str(_patient) + \"_m\" + str(month[i])].append(0)\n",
    "            else:\n",
    "                RECURRENT_vSNP[_patient][str(_patient) + \"_m\" + str(month[i])].append(all_snp_filtered2.frequency[(all_snp_filtered2.patient_id==_patient)&(all_snp_filtered2.stage==month[i])&(all_snp_filtered2.locus==locus[j])].values[0])\n",
    "            \n",
    "        \n",
    "\n",
    "os.chdir(\"/Parastor300s_G30S/sunxh/MTB/v_snp2\")\n",
    "for _patient in sorted(list(set(all_snp_filtered2.patient_id))):\n",
    "    #print (pd.DataFrame(RECURRENT_vSNP[_patient]).T)\n",
    "    pd.DataFrame(RECURRENT_vSNP[_patient]).T.to_csv(\"all_change_20220620.csv\",mode='a')\n",
    "    "
   ]
  }
 ],
 "metadata": {
  "kernelspec": {
   "display_name": "Python 3 (ipykernel)",
   "language": "python",
   "name": "python3"
  },
  "language_info": {
   "codemirror_mode": {
    "name": "ipython",
    "version": 3
   },
   "file_extension": ".py",
   "mimetype": "text/x-python",
   "name": "python",
   "nbconvert_exporter": "python",
   "pygments_lexer": "ipython3",
   "version": "3.9.7"
  }
 },
 "nbformat": 4,
 "nbformat_minor": 5
}
